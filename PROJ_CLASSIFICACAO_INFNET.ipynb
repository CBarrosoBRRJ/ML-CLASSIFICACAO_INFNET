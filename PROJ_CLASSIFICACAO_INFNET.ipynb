{
 "cells": [
  {
   "cell_type": "markdown",
   "metadata": {},
   "source": [
    "### MODELO DE CLASSIFICAÇÃO: PROJETO INFNET"
   ]
  },
  {
   "cell_type": "markdown",
   "metadata": {},
   "source": [
    "Nessa disciplina, aprendemos nossos conhecimentos em algoritmos supervisionados, família de algoritmos que é extremamente importante para o dia-a-dia de um cientista de dados. Agora iremos validar nosso conhecimento. "
   ]
  },
  {
   "cell_type": "markdown",
   "metadata": {},
   "source": [
    "#### 1. Faça o módulo do Kaggle Intro to Machine Learning:"
   ]
  },
  {
   "cell_type": "markdown",
   "metadata": {
    "vscode": {
     "languageId": "plaintext"
    }
   },
   "source": [
    "Comprove a finalização do módulo com um print que contenha data e identificação do aluno. "
   ]
  },
  {
   "cell_type": "markdown",
   "metadata": {},
   "source": [
    "Trabalho com base:"
   ]
  },
  {
   "cell_type": "markdown",
   "metadata": {},
   "source": [
    "Iremos usar a base de dados de vinhos verdes portugueses (nas variantes branco e tinto) que encontra-se disponível no Kaggle:"
   ]
  },
  {
   "cell_type": "markdown",
   "metadata": {},
   "source": [
    "https://www.kaggle.com/datasets/rajyellow46/wine-quality"
   ]
  },
  {
   "cell_type": "code",
   "execution_count": 1,
   "metadata": {},
   "outputs": [
    {
     "name": "stdout",
     "output_type": "stream",
     "text": [
      "Requirement already satisfied: kagglehub in c:\\users\\cmbar\\anaconda\\lib\\site-packages (0.3.9)Note: you may need to restart the kernel to use updated packages.\n",
      "\n",
      "Requirement already satisfied: packaging in c:\\users\\cmbar\\anaconda\\lib\\site-packages (from kagglehub) (24.2)\n",
      "Requirement already satisfied: pyyaml in c:\\users\\cmbar\\anaconda\\lib\\site-packages (from kagglehub) (6.0.2)\n",
      "Requirement already satisfied: requests in c:\\users\\cmbar\\anaconda\\lib\\site-packages (from kagglehub) (2.32.3)\n",
      "Requirement already satisfied: tqdm in c:\\users\\cmbar\\anaconda\\lib\\site-packages (from kagglehub) (4.67.1)\n",
      "Requirement already satisfied: charset-normalizer<4,>=2 in c:\\users\\cmbar\\anaconda\\lib\\site-packages (from requests->kagglehub) (3.4.1)\n",
      "Requirement already satisfied: idna<4,>=2.5 in c:\\users\\cmbar\\anaconda\\lib\\site-packages (from requests->kagglehub) (3.10)\n",
      "Requirement already satisfied: urllib3<3,>=1.21.1 in c:\\users\\cmbar\\anaconda\\lib\\site-packages (from requests->kagglehub) (2.3.0)\n",
      "Requirement already satisfied: certifi>=2017.4.17 in c:\\users\\cmbar\\anaconda\\lib\\site-packages (from requests->kagglehub) (2025.1.31)\n",
      "Requirement already satisfied: colorama in c:\\users\\cmbar\\anaconda\\lib\\site-packages (from tqdm->kagglehub) (0.4.6)\n"
     ]
    }
   ],
   "source": [
    "pip install kagglehub 2> NUL"
   ]
  },
  {
   "cell_type": "code",
   "execution_count": 2,
   "metadata": {},
   "outputs": [
    {
     "name": "stdout",
     "output_type": "stream",
     "text": [
      "0.3.9\n"
     ]
    }
   ],
   "source": [
    "import kagglehub\n",
    "print(kagglehub.__version__)"
   ]
  },
  {
   "cell_type": "code",
   "execution_count": 3,
   "metadata": {},
   "outputs": [
    {
     "name": "stdout",
     "output_type": "stream",
     "text": [
      "Path to dataset files: C:\\Users\\cmbar\\.cache\\kagglehub\\datasets\\rajyellow46\\wine-quality\\versions\\1\n",
      "CSV file found: C:\\Users\\cmbar\\.cache\\kagglehub\\datasets\\rajyellow46\\wine-quality\\versions\\1\\winequalityN.csv\n"
     ]
    },
    {
     "data": {
      "text/plain": [
       "'Data loaded into DataFrame:'"
      ]
     },
     "metadata": {},
     "output_type": "display_data"
    },
    {
     "data": {
      "text/html": [
       "<div>\n",
       "<style scoped>\n",
       "    .dataframe tbody tr th:only-of-type {\n",
       "        vertical-align: middle;\n",
       "    }\n",
       "\n",
       "    .dataframe tbody tr th {\n",
       "        vertical-align: top;\n",
       "    }\n",
       "\n",
       "    .dataframe thead th {\n",
       "        text-align: right;\n",
       "    }\n",
       "</style>\n",
       "<table border=\"1\" class=\"dataframe\">\n",
       "  <thead>\n",
       "    <tr style=\"text-align: right;\">\n",
       "      <th></th>\n",
       "      <th>type</th>\n",
       "      <th>fixed acidity</th>\n",
       "      <th>volatile acidity</th>\n",
       "      <th>citric acid</th>\n",
       "      <th>residual sugar</th>\n",
       "      <th>chlorides</th>\n",
       "      <th>free sulfur dioxide</th>\n",
       "      <th>total sulfur dioxide</th>\n",
       "      <th>density</th>\n",
       "      <th>pH</th>\n",
       "      <th>sulphates</th>\n",
       "      <th>alcohol</th>\n",
       "      <th>quality</th>\n",
       "    </tr>\n",
       "  </thead>\n",
       "  <tbody>\n",
       "    <tr>\n",
       "      <th>0</th>\n",
       "      <td>white</td>\n",
       "      <td>7.0</td>\n",
       "      <td>0.27</td>\n",
       "      <td>0.36</td>\n",
       "      <td>20.7</td>\n",
       "      <td>0.045</td>\n",
       "      <td>45.0</td>\n",
       "      <td>170.0</td>\n",
       "      <td>1.0010</td>\n",
       "      <td>3.00</td>\n",
       "      <td>0.45</td>\n",
       "      <td>8.8</td>\n",
       "      <td>6</td>\n",
       "    </tr>\n",
       "    <tr>\n",
       "      <th>1</th>\n",
       "      <td>white</td>\n",
       "      <td>6.3</td>\n",
       "      <td>0.30</td>\n",
       "      <td>0.34</td>\n",
       "      <td>1.6</td>\n",
       "      <td>0.049</td>\n",
       "      <td>14.0</td>\n",
       "      <td>132.0</td>\n",
       "      <td>0.9940</td>\n",
       "      <td>3.30</td>\n",
       "      <td>0.49</td>\n",
       "      <td>9.5</td>\n",
       "      <td>6</td>\n",
       "    </tr>\n",
       "    <tr>\n",
       "      <th>2</th>\n",
       "      <td>white</td>\n",
       "      <td>8.1</td>\n",
       "      <td>0.28</td>\n",
       "      <td>0.40</td>\n",
       "      <td>6.9</td>\n",
       "      <td>0.050</td>\n",
       "      <td>30.0</td>\n",
       "      <td>97.0</td>\n",
       "      <td>0.9951</td>\n",
       "      <td>3.26</td>\n",
       "      <td>0.44</td>\n",
       "      <td>10.1</td>\n",
       "      <td>6</td>\n",
       "    </tr>\n",
       "    <tr>\n",
       "      <th>3</th>\n",
       "      <td>white</td>\n",
       "      <td>7.2</td>\n",
       "      <td>0.23</td>\n",
       "      <td>0.32</td>\n",
       "      <td>8.5</td>\n",
       "      <td>0.058</td>\n",
       "      <td>47.0</td>\n",
       "      <td>186.0</td>\n",
       "      <td>0.9956</td>\n",
       "      <td>3.19</td>\n",
       "      <td>0.40</td>\n",
       "      <td>9.9</td>\n",
       "      <td>6</td>\n",
       "    </tr>\n",
       "    <tr>\n",
       "      <th>4</th>\n",
       "      <td>white</td>\n",
       "      <td>7.2</td>\n",
       "      <td>0.23</td>\n",
       "      <td>0.32</td>\n",
       "      <td>8.5</td>\n",
       "      <td>0.058</td>\n",
       "      <td>47.0</td>\n",
       "      <td>186.0</td>\n",
       "      <td>0.9956</td>\n",
       "      <td>3.19</td>\n",
       "      <td>0.40</td>\n",
       "      <td>9.9</td>\n",
       "      <td>6</td>\n",
       "    </tr>\n",
       "  </tbody>\n",
       "</table>\n",
       "</div>"
      ],
      "text/plain": [
       "    type  fixed acidity  volatile acidity  citric acid  residual sugar  \\\n",
       "0  white            7.0              0.27         0.36            20.7   \n",
       "1  white            6.3              0.30         0.34             1.6   \n",
       "2  white            8.1              0.28         0.40             6.9   \n",
       "3  white            7.2              0.23         0.32             8.5   \n",
       "4  white            7.2              0.23         0.32             8.5   \n",
       "\n",
       "   chlorides  free sulfur dioxide  total sulfur dioxide  density    pH  \\\n",
       "0      0.045                 45.0                 170.0   1.0010  3.00   \n",
       "1      0.049                 14.0                 132.0   0.9940  3.30   \n",
       "2      0.050                 30.0                  97.0   0.9951  3.26   \n",
       "3      0.058                 47.0                 186.0   0.9956  3.19   \n",
       "4      0.058                 47.0                 186.0   0.9956  3.19   \n",
       "\n",
       "   sulphates  alcohol  quality  \n",
       "0       0.45      8.8        6  \n",
       "1       0.49      9.5        6  \n",
       "2       0.44     10.1        6  \n",
       "3       0.40      9.9        6  \n",
       "4       0.40      9.9        6  "
      ]
     },
     "metadata": {},
     "output_type": "display_data"
    }
   ],
   "source": [
    "import pandas as pd\n",
    "import os\n",
    "\n",
    "# Fazendo o download do dataset do kaggle\n",
    "# O dataset é baixado para um diretório temporário\n",
    "path = kagglehub.dataset_download(\"rajyellow46/wine-quality\")\n",
    "\n",
    "print(\"Path to dataset files:\", path)\n",
    "\n",
    "# Encontrando o arquivo CSV no diretório baixado\n",
    "csv_file = None\n",
    "for root, dirs, files in os.walk(path):\n",
    "    for file in files:\n",
    "        if file.endswith(\".csv\"):\n",
    "            csv_file = os.path.join(root, file)\n",
    "            break\n",
    "    if csv_file:\n",
    "        break\n",
    "\n",
    "if csv_file:\n",
    "    print(f\"CSV file found: {csv_file}\")\n",
    "    # Carregando o CSV em um DataFrame\n",
    "    df = pd.read_csv(csv_file)\n",
    "    display(\"Data loaded into DataFrame:\")\n",
    "    display(df.head())  # Exibindo as primeiras linhas do DataFrame\n",
    "else:\n",
    "    print(\"No CSV file found in the downloaded dataset.\")"
   ]
  },
  {
   "cell_type": "markdown",
   "metadata": {
    "vscode": {
     "languageId": "plaintext"
    }
   },
   "source": [
    "#### 2. Faça o download da base - esta é uma base real, apresentada no artigo:"
   ]
  },
  {
   "cell_type": "markdown",
   "metadata": {},
   "source": [
    "Para as questões 2-5 usaremos apenas os vinhos do tipo \"branco\"."
   ]
  },
  {
   "cell_type": "markdown",
   "metadata": {},
   "source": [
    "P. Cortez, A. Cerdeira, F. Almeida, T. Matos and J. Reis. Modeling wine preferences by data mining from physicochemical properties. In Decision Support Systems, Elsevier, 47(4):547-553, 2009."
   ]
  },
  {
   "cell_type": "markdown",
   "metadata": {},
   "source": [
    "Ela possui uma variável denominada \"quality\", uma nota de 0 a 10 que denota a qualidade do vinho. Crie uma nova variável, chamada \"opinion\" que será uma variável categórica igual à 0, quando quality for menor e igual à 5. O valor será 1, caso contrário. Desconsidere a variável quality para o restante da análise."
   ]
  },
  {
   "cell_type": "code",
   "execution_count": 4,
   "metadata": {},
   "outputs": [],
   "source": [
    "# Adicionando uma coluna 'opinion' ao DataFrame\n",
    "df['opinion'] = df['quality'].apply(lambda x: 0 if x <= 5 else 1)\n",
    "\n",
    "# Excluindo a coluna 'quality' do DataFrame\n",
    "df.drop(columns=['quality'], inplace=True)"
   ]
  },
  {
   "cell_type": "code",
   "execution_count": 5,
   "metadata": {},
   "outputs": [
    {
     "data": {
      "text/html": [
       "<div>\n",
       "<style scoped>\n",
       "    .dataframe tbody tr th:only-of-type {\n",
       "        vertical-align: middle;\n",
       "    }\n",
       "\n",
       "    .dataframe tbody tr th {\n",
       "        vertical-align: top;\n",
       "    }\n",
       "\n",
       "    .dataframe thead th {\n",
       "        text-align: right;\n",
       "    }\n",
       "</style>\n",
       "<table border=\"1\" class=\"dataframe\">\n",
       "  <thead>\n",
       "    <tr style=\"text-align: right;\">\n",
       "      <th></th>\n",
       "      <th>type</th>\n",
       "      <th>fixed acidity</th>\n",
       "      <th>volatile acidity</th>\n",
       "      <th>citric acid</th>\n",
       "      <th>residual sugar</th>\n",
       "      <th>chlorides</th>\n",
       "      <th>free sulfur dioxide</th>\n",
       "      <th>total sulfur dioxide</th>\n",
       "      <th>density</th>\n",
       "      <th>pH</th>\n",
       "      <th>sulphates</th>\n",
       "      <th>alcohol</th>\n",
       "      <th>opinion</th>\n",
       "    </tr>\n",
       "  </thead>\n",
       "  <tbody>\n",
       "    <tr>\n",
       "      <th>0</th>\n",
       "      <td>white</td>\n",
       "      <td>7.0</td>\n",
       "      <td>0.27</td>\n",
       "      <td>0.36</td>\n",
       "      <td>20.7</td>\n",
       "      <td>0.045</td>\n",
       "      <td>45.0</td>\n",
       "      <td>170.0</td>\n",
       "      <td>1.0010</td>\n",
       "      <td>3.00</td>\n",
       "      <td>0.45</td>\n",
       "      <td>8.8</td>\n",
       "      <td>1</td>\n",
       "    </tr>\n",
       "    <tr>\n",
       "      <th>1</th>\n",
       "      <td>white</td>\n",
       "      <td>6.3</td>\n",
       "      <td>0.30</td>\n",
       "      <td>0.34</td>\n",
       "      <td>1.6</td>\n",
       "      <td>0.049</td>\n",
       "      <td>14.0</td>\n",
       "      <td>132.0</td>\n",
       "      <td>0.9940</td>\n",
       "      <td>3.30</td>\n",
       "      <td>0.49</td>\n",
       "      <td>9.5</td>\n",
       "      <td>1</td>\n",
       "    </tr>\n",
       "    <tr>\n",
       "      <th>2</th>\n",
       "      <td>white</td>\n",
       "      <td>8.1</td>\n",
       "      <td>0.28</td>\n",
       "      <td>0.40</td>\n",
       "      <td>6.9</td>\n",
       "      <td>0.050</td>\n",
       "      <td>30.0</td>\n",
       "      <td>97.0</td>\n",
       "      <td>0.9951</td>\n",
       "      <td>3.26</td>\n",
       "      <td>0.44</td>\n",
       "      <td>10.1</td>\n",
       "      <td>1</td>\n",
       "    </tr>\n",
       "    <tr>\n",
       "      <th>3</th>\n",
       "      <td>white</td>\n",
       "      <td>7.2</td>\n",
       "      <td>0.23</td>\n",
       "      <td>0.32</td>\n",
       "      <td>8.5</td>\n",
       "      <td>0.058</td>\n",
       "      <td>47.0</td>\n",
       "      <td>186.0</td>\n",
       "      <td>0.9956</td>\n",
       "      <td>3.19</td>\n",
       "      <td>0.40</td>\n",
       "      <td>9.9</td>\n",
       "      <td>1</td>\n",
       "    </tr>\n",
       "    <tr>\n",
       "      <th>4</th>\n",
       "      <td>white</td>\n",
       "      <td>7.2</td>\n",
       "      <td>0.23</td>\n",
       "      <td>0.32</td>\n",
       "      <td>8.5</td>\n",
       "      <td>0.058</td>\n",
       "      <td>47.0</td>\n",
       "      <td>186.0</td>\n",
       "      <td>0.9956</td>\n",
       "      <td>3.19</td>\n",
       "      <td>0.40</td>\n",
       "      <td>9.9</td>\n",
       "      <td>1</td>\n",
       "    </tr>\n",
       "  </tbody>\n",
       "</table>\n",
       "</div>"
      ],
      "text/plain": [
       "    type  fixed acidity  volatile acidity  citric acid  residual sugar  \\\n",
       "0  white            7.0              0.27         0.36            20.7   \n",
       "1  white            6.3              0.30         0.34             1.6   \n",
       "2  white            8.1              0.28         0.40             6.9   \n",
       "3  white            7.2              0.23         0.32             8.5   \n",
       "4  white            7.2              0.23         0.32             8.5   \n",
       "\n",
       "   chlorides  free sulfur dioxide  total sulfur dioxide  density    pH  \\\n",
       "0      0.045                 45.0                 170.0   1.0010  3.00   \n",
       "1      0.049                 14.0                 132.0   0.9940  3.30   \n",
       "2      0.050                 30.0                  97.0   0.9951  3.26   \n",
       "3      0.058                 47.0                 186.0   0.9956  3.19   \n",
       "4      0.058                 47.0                 186.0   0.9956  3.19   \n",
       "\n",
       "   sulphates  alcohol  opinion  \n",
       "0       0.45      8.8        1  \n",
       "1       0.49      9.5        1  \n",
       "2       0.44     10.1        1  \n",
       "3       0.40      9.9        1  \n",
       "4       0.40      9.9        1  "
      ]
     },
     "execution_count": 5,
     "metadata": {},
     "output_type": "execute_result"
    }
   ],
   "source": [
    "df.head()"
   ]
  },
  {
   "cell_type": "code",
   "execution_count": 6,
   "metadata": {},
   "outputs": [
    {
     "name": "stdout",
     "output_type": "stream",
     "text": [
      "DataFrame com colunas traduzidas para o português:\n"
     ]
    },
    {
     "data": {
      "text/html": [
       "<div>\n",
       "<style scoped>\n",
       "    .dataframe tbody tr th:only-of-type {\n",
       "        vertical-align: middle;\n",
       "    }\n",
       "\n",
       "    .dataframe tbody tr th {\n",
       "        vertical-align: top;\n",
       "    }\n",
       "\n",
       "    .dataframe thead th {\n",
       "        text-align: right;\n",
       "    }\n",
       "</style>\n",
       "<table border=\"1\" class=\"dataframe\">\n",
       "  <thead>\n",
       "    <tr style=\"text-align: right;\">\n",
       "      <th></th>\n",
       "      <th>type</th>\n",
       "      <th>acidez fixa</th>\n",
       "      <th>acidez volátil</th>\n",
       "      <th>ácido cítrico</th>\n",
       "      <th>açúcar residual</th>\n",
       "      <th>cloretos</th>\n",
       "      <th>dióxido de enxofre livre</th>\n",
       "      <th>dióxido de enxofre total</th>\n",
       "      <th>densidade</th>\n",
       "      <th>pH</th>\n",
       "      <th>sulfatos</th>\n",
       "      <th>álcool</th>\n",
       "      <th>opinião</th>\n",
       "    </tr>\n",
       "  </thead>\n",
       "  <tbody>\n",
       "    <tr>\n",
       "      <th>0</th>\n",
       "      <td>white</td>\n",
       "      <td>7.0</td>\n",
       "      <td>0.27</td>\n",
       "      <td>0.36</td>\n",
       "      <td>20.7</td>\n",
       "      <td>0.045</td>\n",
       "      <td>45.0</td>\n",
       "      <td>170.0</td>\n",
       "      <td>1.0010</td>\n",
       "      <td>3.00</td>\n",
       "      <td>0.45</td>\n",
       "      <td>8.8</td>\n",
       "      <td>1</td>\n",
       "    </tr>\n",
       "    <tr>\n",
       "      <th>1</th>\n",
       "      <td>white</td>\n",
       "      <td>6.3</td>\n",
       "      <td>0.30</td>\n",
       "      <td>0.34</td>\n",
       "      <td>1.6</td>\n",
       "      <td>0.049</td>\n",
       "      <td>14.0</td>\n",
       "      <td>132.0</td>\n",
       "      <td>0.9940</td>\n",
       "      <td>3.30</td>\n",
       "      <td>0.49</td>\n",
       "      <td>9.5</td>\n",
       "      <td>1</td>\n",
       "    </tr>\n",
       "    <tr>\n",
       "      <th>2</th>\n",
       "      <td>white</td>\n",
       "      <td>8.1</td>\n",
       "      <td>0.28</td>\n",
       "      <td>0.40</td>\n",
       "      <td>6.9</td>\n",
       "      <td>0.050</td>\n",
       "      <td>30.0</td>\n",
       "      <td>97.0</td>\n",
       "      <td>0.9951</td>\n",
       "      <td>3.26</td>\n",
       "      <td>0.44</td>\n",
       "      <td>10.1</td>\n",
       "      <td>1</td>\n",
       "    </tr>\n",
       "    <tr>\n",
       "      <th>3</th>\n",
       "      <td>white</td>\n",
       "      <td>7.2</td>\n",
       "      <td>0.23</td>\n",
       "      <td>0.32</td>\n",
       "      <td>8.5</td>\n",
       "      <td>0.058</td>\n",
       "      <td>47.0</td>\n",
       "      <td>186.0</td>\n",
       "      <td>0.9956</td>\n",
       "      <td>3.19</td>\n",
       "      <td>0.40</td>\n",
       "      <td>9.9</td>\n",
       "      <td>1</td>\n",
       "    </tr>\n",
       "    <tr>\n",
       "      <th>4</th>\n",
       "      <td>white</td>\n",
       "      <td>7.2</td>\n",
       "      <td>0.23</td>\n",
       "      <td>0.32</td>\n",
       "      <td>8.5</td>\n",
       "      <td>0.058</td>\n",
       "      <td>47.0</td>\n",
       "      <td>186.0</td>\n",
       "      <td>0.9956</td>\n",
       "      <td>3.19</td>\n",
       "      <td>0.40</td>\n",
       "      <td>9.9</td>\n",
       "      <td>1</td>\n",
       "    </tr>\n",
       "  </tbody>\n",
       "</table>\n",
       "</div>"
      ],
      "text/plain": [
       "    type  acidez fixa  acidez volátil  ácido cítrico  açúcar residual  \\\n",
       "0  white          7.0            0.27           0.36             20.7   \n",
       "1  white          6.3            0.30           0.34              1.6   \n",
       "2  white          8.1            0.28           0.40              6.9   \n",
       "3  white          7.2            0.23           0.32              8.5   \n",
       "4  white          7.2            0.23           0.32              8.5   \n",
       "\n",
       "   cloretos  dióxido de enxofre livre  dióxido de enxofre total  densidade  \\\n",
       "0     0.045                      45.0                     170.0     1.0010   \n",
       "1     0.049                      14.0                     132.0     0.9940   \n",
       "2     0.050                      30.0                      97.0     0.9951   \n",
       "3     0.058                      47.0                     186.0     0.9956   \n",
       "4     0.058                      47.0                     186.0     0.9956   \n",
       "\n",
       "     pH  sulfatos  álcool  opinião  \n",
       "0  3.00      0.45     8.8        1  \n",
       "1  3.30      0.49     9.5        1  \n",
       "2  3.26      0.44    10.1        1  \n",
       "3  3.19      0.40     9.9        1  \n",
       "4  3.19      0.40     9.9        1  "
      ]
     },
     "metadata": {},
     "output_type": "display_data"
    }
   ],
   "source": [
    "# Lista com a tradução das colunas para o português\n",
    "traducao_colunas = {\n",
    "    'fixed acidity': 'acidez fixa',\n",
    "    'volatile acidity': 'acidez volátil',\n",
    "    'citric acid': 'ácido cítrico',\n",
    "    'residual sugar': 'açúcar residual',\n",
    "    'chlorides': 'cloretos',\n",
    "    'free sulfur dioxide': 'dióxido de enxofre livre',\n",
    "    'total sulfur dioxide': 'dióxido de enxofre total',\n",
    "    'density': 'densidade',\n",
    "    'pH': 'pH',\n",
    "    'sulphates': 'sulfatos',\n",
    "    'alcohol': 'álcool',\n",
    "    'opinion': 'opinião'  # Nova coluna que criamos anteriormente\n",
    "}\n",
    "\n",
    "# Renomeando as colunas do DataFrame original\n",
    "df = df.rename(columns=traducao_colunas)\n",
    "\n",
    "# Exibindo o DataFrame traduzido\n",
    "print(\"DataFrame com colunas traduzidas para o português:\")\n",
    "display(df.head())"
   ]
  },
  {
   "cell_type": "markdown",
   "metadata": {},
   "source": [
    "#### 3. Descreva as variáveis presentes na base. Quais são as variáveis? Quais são os tipos de variáveis (discreta, categórica, contínua)? Quais são as médias e desvios padrões?"
   ]
  },
  {
   "cell_type": "code",
   "execution_count": 7,
   "metadata": {},
   "outputs": [
    {
     "name": "stdout",
     "output_type": "stream",
     "text": [
      "Variáveis presentes na base de dados:\n",
      "['type', 'acidez fixa', 'acidez volátil', 'ácido cítrico', 'açúcar residual', 'cloretos', 'dióxido de enxofre livre', 'dióxido de enxofre total', 'densidade', 'pH', 'sulfatos', 'álcool', 'opinião']\n",
      "\n",
      "Variáveis numéricas (contínuas ou discretas): ['acidez fixa', 'acidez volátil', 'ácido cítrico', 'açúcar residual', 'cloretos', 'dióxido de enxofre livre', 'dióxido de enxofre total', 'densidade', 'pH', 'sulfatos', 'álcool']\n",
      "Variáveis categóricas: ['type', 'opinião']\n",
      "\n",
      "Estatísticas descritivas para variáveis numéricas:\n"
     ]
    },
    {
     "data": {
      "text/html": [
       "<div>\n",
       "<style scoped>\n",
       "    .dataframe tbody tr th:only-of-type {\n",
       "        vertical-align: middle;\n",
       "    }\n",
       "\n",
       "    .dataframe tbody tr th {\n",
       "        vertical-align: top;\n",
       "    }\n",
       "\n",
       "    .dataframe thead th {\n",
       "        text-align: right;\n",
       "    }\n",
       "</style>\n",
       "<table border=\"1\" class=\"dataframe\">\n",
       "  <thead>\n",
       "    <tr style=\"text-align: right;\">\n",
       "      <th></th>\n",
       "      <th>Média</th>\n",
       "      <th>Desvio Padrão</th>\n",
       "    </tr>\n",
       "  </thead>\n",
       "  <tbody>\n",
       "    <tr>\n",
       "      <th>acidez fixa</th>\n",
       "      <td>7.216579</td>\n",
       "      <td>1.296750</td>\n",
       "    </tr>\n",
       "    <tr>\n",
       "      <th>acidez volátil</th>\n",
       "      <td>0.339691</td>\n",
       "      <td>0.164649</td>\n",
       "    </tr>\n",
       "    <tr>\n",
       "      <th>ácido cítrico</th>\n",
       "      <td>0.318722</td>\n",
       "      <td>0.145265</td>\n",
       "    </tr>\n",
       "    <tr>\n",
       "      <th>açúcar residual</th>\n",
       "      <td>5.444326</td>\n",
       "      <td>4.758125</td>\n",
       "    </tr>\n",
       "    <tr>\n",
       "      <th>cloretos</th>\n",
       "      <td>0.056042</td>\n",
       "      <td>0.035036</td>\n",
       "    </tr>\n",
       "    <tr>\n",
       "      <th>dióxido de enxofre livre</th>\n",
       "      <td>30.525319</td>\n",
       "      <td>17.749400</td>\n",
       "    </tr>\n",
       "    <tr>\n",
       "      <th>dióxido de enxofre total</th>\n",
       "      <td>115.744574</td>\n",
       "      <td>56.521855</td>\n",
       "    </tr>\n",
       "    <tr>\n",
       "      <th>densidade</th>\n",
       "      <td>0.994697</td>\n",
       "      <td>0.002999</td>\n",
       "    </tr>\n",
       "    <tr>\n",
       "      <th>pH</th>\n",
       "      <td>3.218395</td>\n",
       "      <td>0.160748</td>\n",
       "    </tr>\n",
       "    <tr>\n",
       "      <th>sulfatos</th>\n",
       "      <td>0.531215</td>\n",
       "      <td>0.148814</td>\n",
       "    </tr>\n",
       "    <tr>\n",
       "      <th>álcool</th>\n",
       "      <td>10.491801</td>\n",
       "      <td>1.192712</td>\n",
       "    </tr>\n",
       "  </tbody>\n",
       "</table>\n",
       "</div>"
      ],
      "text/plain": [
       "                               Média  Desvio Padrão\n",
       "acidez fixa                 7.216579       1.296750\n",
       "acidez volátil              0.339691       0.164649\n",
       "ácido cítrico               0.318722       0.145265\n",
       "açúcar residual             5.444326       4.758125\n",
       "cloretos                    0.056042       0.035036\n",
       "dióxido de enxofre livre   30.525319      17.749400\n",
       "dióxido de enxofre total  115.744574      56.521855\n",
       "densidade                   0.994697       0.002999\n",
       "pH                          3.218395       0.160748\n",
       "sulfatos                    0.531215       0.148814\n",
       "álcool                     10.491801       1.192712"
      ]
     },
     "metadata": {},
     "output_type": "display_data"
    },
    {
     "name": "stdout",
     "output_type": "stream",
     "text": [
      "\n",
      "Descrição das variáveis categóricas:\n",
      "\n",
      "Variável: type\n",
      "type\n",
      "white    4898\n",
      "red      1599\n",
      "Name: count, dtype: int64\n",
      "\n",
      "Variável: opinião\n",
      "opinião\n",
      "1    4113\n",
      "0    2384\n",
      "Name: count, dtype: int64\n"
     ]
    }
   ],
   "source": [
    "# 1. Identificar as variáveis e seus tipos\n",
    "print(\"Variáveis presentes na base de dados:\")\n",
    "print(df.columns.tolist())\n",
    "\n",
    "# 2. Classificar as variáveis\n",
    "# Variáveis numéricas (contínuas ou discretas)\n",
    "variaveis_numericas = df.select_dtypes(include=['float64']).columns.tolist()\n",
    "\n",
    "# Variáveis categóricas\n",
    "variaveis_categoricas = df.select_dtypes(include=['object', 'category' , 'int64']).columns.tolist()\n",
    "\n",
    "print(\"\\nVariáveis numéricas (contínuas ou discretas):\", variaveis_numericas)\n",
    "print(\"Variáveis categóricas:\", variaveis_categoricas)\n",
    "\n",
    "# 3. Calcular estatísticas descritivas para variáveis numéricas\n",
    "print(\"\\nEstatísticas descritivas para variáveis numéricas:\")\n",
    "descricao_numericas = df[variaveis_numericas].describe().transpose()\n",
    "descricao_numericas = descricao_numericas[['mean', 'std']]  # Selecionando apenas média e desvio padrão\n",
    "descricao_numericas.rename(columns={'mean': 'Média', 'std': 'Desvio Padrão'}, inplace=True)\n",
    "display(descricao_numericas)\n",
    "\n",
    "# 4. Descrever variáveis categóricas\n",
    "print(\"\\nDescrição das variáveis categóricas:\")\n",
    "for var in variaveis_categoricas:\n",
    "    print(f\"\\nVariável: {var}\")\n",
    "    print(df[var].value_counts())"
   ]
  },
  {
   "cell_type": "markdown",
   "metadata": {},
   "source": [
    "#### 4. Com a base escolhida:"
   ]
  },
  {
   "cell_type": "markdown",
   "metadata": {},
   "source": [
    "##### Descreva as etapas necessárias para criar um modelo de classificação eficiente."
   ]
  },
  {
   "cell_type": "code",
   "execution_count": 8,
   "metadata": {},
   "outputs": [
    {
     "name": "stdout",
     "output_type": "stream",
     "text": [
      "\n",
      "Etapas para criar um modelo de classificação eficiente:\n",
      "\n",
      "1. **Entendimento do Problema**:\n",
      "   - Defina o objetivo do modelo (ex.: prever a variável \"opinião\").\n",
      "   - Entenda o contexto do problema e as métricas de sucesso (ex.: acurácia, precisão, recall, F1-score).\n",
      "\n",
      "2. **Pré-processamento dos Dados**:\n",
      "   - Trate valores faltantes (ex.: remover, imputar).\n",
      "   - Codifique variáveis categóricas (ex.: one-hot encoding, label encoding).\n",
      "   - Normalize ou padronize variáveis numéricas, se necessário.\n",
      "   - Divida os dados em conjuntos de treino e teste (ex.: 80% treino, 20% teste).\n",
      "\n",
      "3. **Seleção de Features**:\n",
      "   - Remova variáveis irrelevantes ou redundantes.\n",
      "   - Use técnicas como análise de correlação, importância de features ou seleção recursiva.\n",
      "\n",
      "4. **Escolha do Modelo**:\n",
      "   - Escolha algoritmos de classificação adequados (ex.: Regressão Logística, Árvores de Decisão, Random Forest, SVM, XGBoost).\n",
      "\n",
      "5. **Treinamento do Modelo**:\n",
      "   - Treine o modelo usando o conjunto de treino.\n",
      "   - Ajuste hiperparâmetros usando validação cruzada (ex.: GridSearchCV, RandomizedSearchCV).\n",
      "\n",
      "6. **Avaliação do Modelo**:\n",
      "   - Teste o modelo no conjunto de teste.\n",
      "   - Use métricas como acurácia, matriz de confusão, precisão, recall, F1-score e AUC-ROC.\n",
      "   - Verifique se há overfitting ou underfitting.\n",
      "\n",
      "7. **Otimização**:\n",
      "   - Melhore o modelo ajustando hiperparâmetros, selecionando novas features ou usando técnicas como ensemble learning.\n",
      "   - Considere balanceamento de classes, se necessário (ex.: oversampling, undersampling).\n",
      "\n",
      "8. **Implantação**\n",
      "\n",
      "\n",
      "9. **Manutenção**\n",
      "\n",
      "\n"
     ]
    }
   ],
   "source": [
    "print('''\n",
    "Etapas para criar um modelo de classificação eficiente:\n",
    "\n",
    "1. **Entendimento do Problema**:\n",
    "   - Defina o objetivo do modelo (ex.: prever a variável \"opinião\").\n",
    "   - Entenda o contexto do problema e as métricas de sucesso (ex.: acurácia, precisão, recall, F1-score).\n",
    "\n",
    "2. **Pré-processamento dos Dados**:\n",
    "   - Trate valores faltantes (ex.: remover, imputar).\n",
    "   - Codifique variáveis categóricas (ex.: one-hot encoding, label encoding).\n",
    "   - Normalize ou padronize variáveis numéricas, se necessário.\n",
    "   - Divida os dados em conjuntos de treino e teste (ex.: 80% treino, 20% teste).\n",
    "\n",
    "3. **Seleção de Features**:\n",
    "   - Remova variáveis irrelevantes ou redundantes.\n",
    "   - Use técnicas como análise de correlação, importância de features ou seleção recursiva.\n",
    "\n",
    "4. **Escolha do Modelo**:\n",
    "   - Escolha algoritmos de classificação adequados (ex.: Regressão Logística, Árvores de Decisão, Random Forest, SVM, XGBoost).\n",
    "\n",
    "5. **Treinamento do Modelo**:\n",
    "   - Treine o modelo usando o conjunto de treino.\n",
    "   - Ajuste hiperparâmetros usando validação cruzada (ex.: GridSearchCV, RandomizedSearchCV).\n",
    "\n",
    "6. **Avaliação do Modelo**:\n",
    "   - Teste o modelo no conjunto de teste.\n",
    "   - Use métricas como acurácia, matriz de confusão, precisão, recall, F1-score e AUC-ROC.\n",
    "   - Verifique se há overfitting ou underfitting.\n",
    "\n",
    "7. **Otimização**:\n",
    "   - Melhore o modelo ajustando hiperparâmetros, selecionando novas features ou usando técnicas como ensemble learning.\n",
    "   - Considere balanceamento de classes, se necessário (ex.: oversampling, undersampling).\n",
    "\n",
    "8. **Implantação**\n",
    "\n",
    "\n",
    "9. **Manutenção**\n",
    "\n",
    "''')"
   ]
  },
  {
   "cell_type": "markdown",
   "metadata": {},
   "source": [
    "##### Treine um modelo de regressão logística usando um modelo de validação cruzada estratificada com k-folds (k=10) para realizar"
   ]
  },
  {
   "cell_type": "code",
   "execution_count": 9,
   "metadata": {},
   "outputs": [],
   "source": [
    "# Importações necessárias\n",
    "from sklearn.preprocessing import OneHotEncoder\n",
    "from sklearn.model_selection import StratifiedKFold, cross_validate\n",
    "from sklearn.linear_model import LogisticRegression\n",
    "from sklearn.metrics import accuracy_score, precision_score, recall_score, f1_score\n",
    "import numpy as np\n",
    "from sklearn.impute import SimpleImputer\n"
   ]
  },
  {
   "cell_type": "code",
   "execution_count": 10,
   "metadata": {},
   "outputs": [
    {
     "name": "stdout",
     "output_type": "stream",
     "text": [
      "type                         0\n",
      "acidez fixa                 10\n",
      "acidez volátil               8\n",
      "ácido cítrico                3\n",
      "açúcar residual              2\n",
      "cloretos                     2\n",
      "dióxido de enxofre livre     0\n",
      "dióxido de enxofre total     0\n",
      "densidade                    0\n",
      "pH                           9\n",
      "sulfatos                     4\n",
      "álcool                       0\n",
      "opinião                      0\n",
      "dtype: int64\n"
     ]
    }
   ],
   "source": [
    "# Verificando se há valores faltantes no DataFrame\n",
    "print(df.isnull().sum())"
   ]
  },
  {
   "cell_type": "code",
   "execution_count": 11,
   "metadata": {},
   "outputs": [],
   "source": [
    "\n",
    "# 2. Preencher valores faltantes nas colunas numéricas com a média\n",
    "imputer_numerico = SimpleImputer(strategy='mean')\n",
    "df[variaveis_numericas] = imputer_numerico.fit_transform(df[variaveis_numericas])\n",
    "\n",
    "# 3. Preencher valores faltantes nas colunas categóricas com a moda (valor mais frequente)\n",
    "if len(variaveis_categoricas) > 0:  # Verifica se há colunas categóricas\n",
    "    imputer_categorico = SimpleImputer(strategy='most_frequent')\n",
    "    df[variaveis_categoricas] = imputer_categorico.fit_transform(df[variaveis_categoricas])\n",
    "\n"
   ]
  },
  {
   "cell_type": "code",
   "execution_count": 12,
   "metadata": {},
   "outputs": [
    {
     "name": "stdout",
     "output_type": "stream",
     "text": [
      "type                        0\n",
      "acidez fixa                 0\n",
      "acidez volátil              0\n",
      "ácido cítrico               0\n",
      "açúcar residual             0\n",
      "cloretos                    0\n",
      "dióxido de enxofre livre    0\n",
      "dióxido de enxofre total    0\n",
      "densidade                   0\n",
      "pH                          0\n",
      "sulfatos                    0\n",
      "álcool                      0\n",
      "opinião                     0\n",
      "dtype: int64\n"
     ]
    }
   ],
   "source": [
    "# Verificando se há valores faltantes no DataFrame\n",
    "print(df.isnull().sum())"
   ]
  },
  {
   "cell_type": "code",
   "execution_count": 13,
   "metadata": {},
   "outputs": [],
   "source": [
    "# 4. Filtrar os DataFrames por tipo de vinho\n",
    "# Supondo que a coluna 'type' contenha 'white' e 'red'\n",
    "df_white = df[df['type'] == 'white']  # Filtra apenas vinhos brancos\n",
    "df_red = df[df['type'] == 'red']      # Filtra apenas vinhos tin"
   ]
  },
  {
   "cell_type": "code",
   "execution_count": 14,
   "metadata": {},
   "outputs": [],
   "source": [
    "# Remover a coluna 'type' dos novos DataFrames\n",
    "df_white = df.drop(columns=['type'])\n",
    "df_red = df_red.drop(columns=['type'])"
   ]
  },
  {
   "cell_type": "code",
   "execution_count": 15,
   "metadata": {},
   "outputs": [
    {
     "data": {
      "text/html": [
       "<div>\n",
       "<style scoped>\n",
       "    .dataframe tbody tr th:only-of-type {\n",
       "        vertical-align: middle;\n",
       "    }\n",
       "\n",
       "    .dataframe tbody tr th {\n",
       "        vertical-align: top;\n",
       "    }\n",
       "\n",
       "    .dataframe thead th {\n",
       "        text-align: right;\n",
       "    }\n",
       "</style>\n",
       "<table border=\"1\" class=\"dataframe\">\n",
       "  <thead>\n",
       "    <tr style=\"text-align: right;\">\n",
       "      <th></th>\n",
       "      <th>acidez fixa</th>\n",
       "      <th>acidez volátil</th>\n",
       "      <th>ácido cítrico</th>\n",
       "      <th>açúcar residual</th>\n",
       "      <th>cloretos</th>\n",
       "      <th>dióxido de enxofre livre</th>\n",
       "      <th>dióxido de enxofre total</th>\n",
       "      <th>densidade</th>\n",
       "      <th>pH</th>\n",
       "      <th>sulfatos</th>\n",
       "      <th>álcool</th>\n",
       "      <th>opinião</th>\n",
       "    </tr>\n",
       "  </thead>\n",
       "  <tbody>\n",
       "    <tr>\n",
       "      <th>0</th>\n",
       "      <td>7.0</td>\n",
       "      <td>0.27</td>\n",
       "      <td>0.36</td>\n",
       "      <td>20.7</td>\n",
       "      <td>0.045</td>\n",
       "      <td>45.0</td>\n",
       "      <td>170.0</td>\n",
       "      <td>1.0010</td>\n",
       "      <td>3.00</td>\n",
       "      <td>0.45</td>\n",
       "      <td>8.8</td>\n",
       "      <td>1</td>\n",
       "    </tr>\n",
       "    <tr>\n",
       "      <th>1</th>\n",
       "      <td>6.3</td>\n",
       "      <td>0.30</td>\n",
       "      <td>0.34</td>\n",
       "      <td>1.6</td>\n",
       "      <td>0.049</td>\n",
       "      <td>14.0</td>\n",
       "      <td>132.0</td>\n",
       "      <td>0.9940</td>\n",
       "      <td>3.30</td>\n",
       "      <td>0.49</td>\n",
       "      <td>9.5</td>\n",
       "      <td>1</td>\n",
       "    </tr>\n",
       "    <tr>\n",
       "      <th>2</th>\n",
       "      <td>8.1</td>\n",
       "      <td>0.28</td>\n",
       "      <td>0.40</td>\n",
       "      <td>6.9</td>\n",
       "      <td>0.050</td>\n",
       "      <td>30.0</td>\n",
       "      <td>97.0</td>\n",
       "      <td>0.9951</td>\n",
       "      <td>3.26</td>\n",
       "      <td>0.44</td>\n",
       "      <td>10.1</td>\n",
       "      <td>1</td>\n",
       "    </tr>\n",
       "    <tr>\n",
       "      <th>3</th>\n",
       "      <td>7.2</td>\n",
       "      <td>0.23</td>\n",
       "      <td>0.32</td>\n",
       "      <td>8.5</td>\n",
       "      <td>0.058</td>\n",
       "      <td>47.0</td>\n",
       "      <td>186.0</td>\n",
       "      <td>0.9956</td>\n",
       "      <td>3.19</td>\n",
       "      <td>0.40</td>\n",
       "      <td>9.9</td>\n",
       "      <td>1</td>\n",
       "    </tr>\n",
       "    <tr>\n",
       "      <th>4</th>\n",
       "      <td>7.2</td>\n",
       "      <td>0.23</td>\n",
       "      <td>0.32</td>\n",
       "      <td>8.5</td>\n",
       "      <td>0.058</td>\n",
       "      <td>47.0</td>\n",
       "      <td>186.0</td>\n",
       "      <td>0.9956</td>\n",
       "      <td>3.19</td>\n",
       "      <td>0.40</td>\n",
       "      <td>9.9</td>\n",
       "      <td>1</td>\n",
       "    </tr>\n",
       "  </tbody>\n",
       "</table>\n",
       "</div>"
      ],
      "text/plain": [
       "   acidez fixa  acidez volátil  ácido cítrico  açúcar residual  cloretos  \\\n",
       "0          7.0            0.27           0.36             20.7     0.045   \n",
       "1          6.3            0.30           0.34              1.6     0.049   \n",
       "2          8.1            0.28           0.40              6.9     0.050   \n",
       "3          7.2            0.23           0.32              8.5     0.058   \n",
       "4          7.2            0.23           0.32              8.5     0.058   \n",
       "\n",
       "   dióxido de enxofre livre  dióxido de enxofre total  densidade    pH  \\\n",
       "0                      45.0                     170.0     1.0010  3.00   \n",
       "1                      14.0                     132.0     0.9940  3.30   \n",
       "2                      30.0                      97.0     0.9951  3.26   \n",
       "3                      47.0                     186.0     0.9956  3.19   \n",
       "4                      47.0                     186.0     0.9956  3.19   \n",
       "\n",
       "   sulfatos  álcool opinião  \n",
       "0      0.45     8.8       1  \n",
       "1      0.49     9.5       1  \n",
       "2      0.44    10.1       1  \n",
       "3      0.40     9.9       1  \n",
       "4      0.40     9.9       1  "
      ]
     },
     "execution_count": 15,
     "metadata": {},
     "output_type": "execute_result"
    }
   ],
   "source": [
    "df_white.head()"
   ]
  },
  {
   "cell_type": "code",
   "execution_count": 16,
   "metadata": {},
   "outputs": [
    {
     "data": {
      "text/html": [
       "<div>\n",
       "<style scoped>\n",
       "    .dataframe tbody tr th:only-of-type {\n",
       "        vertical-align: middle;\n",
       "    }\n",
       "\n",
       "    .dataframe tbody tr th {\n",
       "        vertical-align: top;\n",
       "    }\n",
       "\n",
       "    .dataframe thead th {\n",
       "        text-align: right;\n",
       "    }\n",
       "</style>\n",
       "<table border=\"1\" class=\"dataframe\">\n",
       "  <thead>\n",
       "    <tr style=\"text-align: right;\">\n",
       "      <th></th>\n",
       "      <th>acidez fixa</th>\n",
       "      <th>acidez volátil</th>\n",
       "      <th>ácido cítrico</th>\n",
       "      <th>açúcar residual</th>\n",
       "      <th>cloretos</th>\n",
       "      <th>dióxido de enxofre livre</th>\n",
       "      <th>dióxido de enxofre total</th>\n",
       "      <th>densidade</th>\n",
       "      <th>pH</th>\n",
       "      <th>sulfatos</th>\n",
       "      <th>álcool</th>\n",
       "      <th>opinião</th>\n",
       "    </tr>\n",
       "  </thead>\n",
       "  <tbody>\n",
       "    <tr>\n",
       "      <th>4898</th>\n",
       "      <td>7.4</td>\n",
       "      <td>0.70</td>\n",
       "      <td>0.00</td>\n",
       "      <td>1.9</td>\n",
       "      <td>0.076</td>\n",
       "      <td>11.0</td>\n",
       "      <td>34.0</td>\n",
       "      <td>0.9978</td>\n",
       "      <td>3.51</td>\n",
       "      <td>0.56</td>\n",
       "      <td>9.4</td>\n",
       "      <td>0</td>\n",
       "    </tr>\n",
       "    <tr>\n",
       "      <th>4899</th>\n",
       "      <td>7.8</td>\n",
       "      <td>0.88</td>\n",
       "      <td>0.00</td>\n",
       "      <td>2.6</td>\n",
       "      <td>0.098</td>\n",
       "      <td>25.0</td>\n",
       "      <td>67.0</td>\n",
       "      <td>0.9968</td>\n",
       "      <td>3.20</td>\n",
       "      <td>0.68</td>\n",
       "      <td>9.8</td>\n",
       "      <td>0</td>\n",
       "    </tr>\n",
       "    <tr>\n",
       "      <th>4900</th>\n",
       "      <td>7.8</td>\n",
       "      <td>0.76</td>\n",
       "      <td>0.04</td>\n",
       "      <td>2.3</td>\n",
       "      <td>0.092</td>\n",
       "      <td>15.0</td>\n",
       "      <td>54.0</td>\n",
       "      <td>0.9970</td>\n",
       "      <td>3.26</td>\n",
       "      <td>0.65</td>\n",
       "      <td>9.8</td>\n",
       "      <td>0</td>\n",
       "    </tr>\n",
       "    <tr>\n",
       "      <th>4901</th>\n",
       "      <td>11.2</td>\n",
       "      <td>0.28</td>\n",
       "      <td>0.56</td>\n",
       "      <td>1.9</td>\n",
       "      <td>0.075</td>\n",
       "      <td>17.0</td>\n",
       "      <td>60.0</td>\n",
       "      <td>0.9980</td>\n",
       "      <td>3.16</td>\n",
       "      <td>0.58</td>\n",
       "      <td>9.8</td>\n",
       "      <td>1</td>\n",
       "    </tr>\n",
       "    <tr>\n",
       "      <th>4902</th>\n",
       "      <td>7.4</td>\n",
       "      <td>0.70</td>\n",
       "      <td>0.00</td>\n",
       "      <td>1.9</td>\n",
       "      <td>0.076</td>\n",
       "      <td>11.0</td>\n",
       "      <td>34.0</td>\n",
       "      <td>0.9978</td>\n",
       "      <td>3.51</td>\n",
       "      <td>0.56</td>\n",
       "      <td>9.4</td>\n",
       "      <td>0</td>\n",
       "    </tr>\n",
       "  </tbody>\n",
       "</table>\n",
       "</div>"
      ],
      "text/plain": [
       "      acidez fixa  acidez volátil  ácido cítrico  açúcar residual  cloretos  \\\n",
       "4898          7.4            0.70           0.00              1.9     0.076   \n",
       "4899          7.8            0.88           0.00              2.6     0.098   \n",
       "4900          7.8            0.76           0.04              2.3     0.092   \n",
       "4901         11.2            0.28           0.56              1.9     0.075   \n",
       "4902          7.4            0.70           0.00              1.9     0.076   \n",
       "\n",
       "      dióxido de enxofre livre  dióxido de enxofre total  densidade    pH  \\\n",
       "4898                      11.0                      34.0     0.9978  3.51   \n",
       "4899                      25.0                      67.0     0.9968  3.20   \n",
       "4900                      15.0                      54.0     0.9970  3.26   \n",
       "4901                      17.0                      60.0     0.9980  3.16   \n",
       "4902                      11.0                      34.0     0.9978  3.51   \n",
       "\n",
       "      sulfatos  álcool opinião  \n",
       "4898      0.56     9.4       0  \n",
       "4899      0.68     9.8       0  \n",
       "4900      0.65     9.8       0  \n",
       "4901      0.58     9.8       1  \n",
       "4902      0.56     9.4       0  "
      ]
     },
     "execution_count": 16,
     "metadata": {},
     "output_type": "execute_result"
    }
   ],
   "source": [
    "df_red.head()"
   ]
  },
  {
   "cell_type": "code",
   "execution_count": 17,
   "metadata": {},
   "outputs": [],
   "source": [
    "\n",
    "# Identificar colunas categóricas\n",
    "colunas_categoricas = df.select_dtypes(include=['object']).columns.tolist()\n",
    "\n",
    "# Aplicar OneHotEncoder\n",
    "encoder = OneHotEncoder(sparse_output=False, drop='first')  # drop='first' para evitar multicolinearidade\n",
    "encoded_cols = encoder.fit_transform(df[colunas_categoricas])\n",
    "\n",
    "# Criar um DataFrame com as colunas codificadas\n",
    "encoded_df = pd.DataFrame(encoded_cols, columns=encoder.get_feature_names_out(colunas_categoricas))\n",
    "\n",
    "# Remover colunas categóricas originais e adicionar as codificadas\n",
    "df = df.drop(columns=colunas_categoricas)\n",
    "df = pd.concat([df, encoded_df], axis=1)"
   ]
  },
  {
   "cell_type": "code",
   "execution_count": 18,
   "metadata": {},
   "outputs": [
    {
     "name": "stdout",
     "output_type": "stream",
     "text": [
      "Valores únicos na coluna 'opinião': [1 0]\n",
      "Tipo de dados da coluna 'opinião': object\n",
      "Valores faltantes na coluna 'opinião': 0\n"
     ]
    }
   ],
   "source": [
    "# Verificar e ajustar a coluna 'opinião'\n",
    "print(\"Valores únicos na coluna 'opinião':\", df_white['opinião'].unique())\n",
    "print(\"Tipo de dados da coluna 'opinião':\", df_white['opinião'].dtype)\n",
    "print(\"Valores faltantes na coluna 'opinião':\", df_white['opinião'].isnull().sum())"
   ]
  },
  {
   "cell_type": "code",
   "execution_count": 19,
   "metadata": {},
   "outputs": [],
   "source": [
    "# Converter para inteiro e tratar valores faltantes\n",
    "df_white['opinião'] = df_white['opinião'].astype(int)\n",
    "df_white = df_white.dropna(subset=['opinião'])  # Remover valores faltantes\n"
   ]
  },
  {
   "cell_type": "code",
   "execution_count": 20,
   "metadata": {},
   "outputs": [
    {
     "name": "stdout",
     "output_type": "stream",
     "text": [
      "Valores únicos após ajustes: [1 0]\n"
     ]
    }
   ],
   "source": [
    "# Verificar se a coluna é binária\n",
    "print(\"Valores únicos após ajustes:\", df_white['opinião'].unique())"
   ]
  },
  {
   "cell_type": "code",
   "execution_count": 21,
   "metadata": {},
   "outputs": [],
   "source": [
    "# 1. Definindo o modelo e a validação cruzada\n",
    "modelo = LogisticRegression(max_iter=1000, random_state=42)  # Aumentando o número máximo de iterações para convergência\n",
    "kfold = StratifiedKFold(n_splits=10, shuffle=True, random_state=42)\n"
   ]
  },
  {
   "cell_type": "code",
   "execution_count": 22,
   "metadata": {},
   "outputs": [],
   "source": [
    "# 2. Definindo as métricas a serem calculadas\n",
    "metricas = {\n",
    "    'acuracia': 'accuracy',\n",
    "    'precisao': 'precision',\n",
    "    'recall': 'recall',\n",
    "    'f1': 'f1'\n",
    "}"
   ]
  },
  {
   "cell_type": "code",
   "execution_count": 23,
   "metadata": {},
   "outputs": [
    {
     "name": "stderr",
     "output_type": "stream",
     "text": [
      "c:\\Users\\cmbar\\anaconda\\Lib\\site-packages\\sklearn\\linear_model\\_logistic.py:469: ConvergenceWarning: lbfgs failed to converge (status=1):\n",
      "STOP: TOTAL NO. of ITERATIONS REACHED LIMIT.\n",
      "\n",
      "Increase the number of iterations (max_iter) or scale the data as shown in:\n",
      "    https://scikit-learn.org/stable/modules/preprocessing.html\n",
      "Please also refer to the documentation for alternative solver options:\n",
      "    https://scikit-learn.org/stable/modules/linear_model.html#logistic-regression\n",
      "  n_iter_i = _check_optimize_result(\n",
      "c:\\Users\\cmbar\\anaconda\\Lib\\site-packages\\sklearn\\linear_model\\_logistic.py:469: ConvergenceWarning: lbfgs failed to converge (status=1):\n",
      "STOP: TOTAL NO. of ITERATIONS REACHED LIMIT.\n",
      "\n",
      "Increase the number of iterations (max_iter) or scale the data as shown in:\n",
      "    https://scikit-learn.org/stable/modules/preprocessing.html\n",
      "Please also refer to the documentation for alternative solver options:\n",
      "    https://scikit-learn.org/stable/modules/linear_model.html#logistic-regression\n",
      "  n_iter_i = _check_optimize_result(\n",
      "c:\\Users\\cmbar\\anaconda\\Lib\\site-packages\\sklearn\\linear_model\\_logistic.py:469: ConvergenceWarning: lbfgs failed to converge (status=1):\n",
      "STOP: TOTAL NO. of ITERATIONS REACHED LIMIT.\n",
      "\n",
      "Increase the number of iterations (max_iter) or scale the data as shown in:\n",
      "    https://scikit-learn.org/stable/modules/preprocessing.html\n",
      "Please also refer to the documentation for alternative solver options:\n",
      "    https://scikit-learn.org/stable/modules/linear_model.html#logistic-regression\n",
      "  n_iter_i = _check_optimize_result(\n",
      "c:\\Users\\cmbar\\anaconda\\Lib\\site-packages\\sklearn\\linear_model\\_logistic.py:469: ConvergenceWarning: lbfgs failed to converge (status=1):\n",
      "STOP: TOTAL NO. of ITERATIONS REACHED LIMIT.\n",
      "\n",
      "Increase the number of iterations (max_iter) or scale the data as shown in:\n",
      "    https://scikit-learn.org/stable/modules/preprocessing.html\n",
      "Please also refer to the documentation for alternative solver options:\n",
      "    https://scikit-learn.org/stable/modules/linear_model.html#logistic-regression\n",
      "  n_iter_i = _check_optimize_result(\n",
      "c:\\Users\\cmbar\\anaconda\\Lib\\site-packages\\sklearn\\linear_model\\_logistic.py:469: ConvergenceWarning: lbfgs failed to converge (status=1):\n",
      "STOP: TOTAL NO. of ITERATIONS REACHED LIMIT.\n",
      "\n",
      "Increase the number of iterations (max_iter) or scale the data as shown in:\n",
      "    https://scikit-learn.org/stable/modules/preprocessing.html\n",
      "Please also refer to the documentation for alternative solver options:\n",
      "    https://scikit-learn.org/stable/modules/linear_model.html#logistic-regression\n",
      "  n_iter_i = _check_optimize_result(\n",
      "c:\\Users\\cmbar\\anaconda\\Lib\\site-packages\\sklearn\\linear_model\\_logistic.py:469: ConvergenceWarning: lbfgs failed to converge (status=1):\n",
      "STOP: TOTAL NO. of ITERATIONS REACHED LIMIT.\n",
      "\n",
      "Increase the number of iterations (max_iter) or scale the data as shown in:\n",
      "    https://scikit-learn.org/stable/modules/preprocessing.html\n",
      "Please also refer to the documentation for alternative solver options:\n",
      "    https://scikit-learn.org/stable/modules/linear_model.html#logistic-regression\n",
      "  n_iter_i = _check_optimize_result(\n",
      "c:\\Users\\cmbar\\anaconda\\Lib\\site-packages\\sklearn\\linear_model\\_logistic.py:469: ConvergenceWarning: lbfgs failed to converge (status=1):\n",
      "STOP: TOTAL NO. of ITERATIONS REACHED LIMIT.\n",
      "\n",
      "Increase the number of iterations (max_iter) or scale the data as shown in:\n",
      "    https://scikit-learn.org/stable/modules/preprocessing.html\n",
      "Please also refer to the documentation for alternative solver options:\n",
      "    https://scikit-learn.org/stable/modules/linear_model.html#logistic-regression\n",
      "  n_iter_i = _check_optimize_result(\n",
      "c:\\Users\\cmbar\\anaconda\\Lib\\site-packages\\sklearn\\linear_model\\_logistic.py:469: ConvergenceWarning: lbfgs failed to converge (status=1):\n",
      "STOP: TOTAL NO. of ITERATIONS REACHED LIMIT.\n",
      "\n",
      "Increase the number of iterations (max_iter) or scale the data as shown in:\n",
      "    https://scikit-learn.org/stable/modules/preprocessing.html\n",
      "Please also refer to the documentation for alternative solver options:\n",
      "    https://scikit-learn.org/stable/modules/linear_model.html#logistic-regression\n",
      "  n_iter_i = _check_optimize_result(\n",
      "c:\\Users\\cmbar\\anaconda\\Lib\\site-packages\\sklearn\\linear_model\\_logistic.py:469: ConvergenceWarning: lbfgs failed to converge (status=1):\n",
      "STOP: TOTAL NO. of ITERATIONS REACHED LIMIT.\n",
      "\n",
      "Increase the number of iterations (max_iter) or scale the data as shown in:\n",
      "    https://scikit-learn.org/stable/modules/preprocessing.html\n",
      "Please also refer to the documentation for alternative solver options:\n",
      "    https://scikit-learn.org/stable/modules/linear_model.html#logistic-regression\n",
      "  n_iter_i = _check_optimize_result(\n"
     ]
    }
   ],
   "source": [
    "# 3. Aplicando a validação cruzada\n",
    "resultados = cross_validate(\n",
    "    modelo,\n",
    "    df_white.drop(columns=['opinião']),  # Features (X)\n",
    "    df_white['opinião'],                 # Target (y)\n",
    "    cv=kfold,\n",
    "    scoring=metricas\n",
    ")"
   ]
  },
  {
   "cell_type": "code",
   "execution_count": 24,
   "metadata": {},
   "outputs": [
    {
     "name": "stdout",
     "output_type": "stream",
     "text": [
      "Média da Acurácia: 0.7403\n",
      "Desvio Padrão da Acurácia: 0.0166\n"
     ]
    }
   ],
   "source": [
    "# i. a média e desvio da acurácia dos modelos obtidos;\n",
    "\n",
    "media_acuracia = np.mean(resultados['test_acuracia'])\n",
    "desvio_acuracia = np.std(resultados['test_acuracia'])\n",
    "print(f\"Média da Acurácia: {media_acuracia:.4f}\")\n",
    "print(f\"Desvio Padrão da Acurácia: {desvio_acuracia:.4f}\")"
   ]
  },
  {
   "cell_type": "code",
   "execution_count": 25,
   "metadata": {},
   "outputs": [
    {
     "name": "stdout",
     "output_type": "stream",
     "text": [
      "\n",
      "Média da Precisão: 0.7705\n",
      "Desvio Padrão da Precisão: 0.0160\n"
     ]
    }
   ],
   "source": [
    "# ii. a média e desvio da precisão dos modelos obtidos;\n",
    "\n",
    "media_precisao = np.mean(resultados['test_precisao'])\n",
    "desvio_precisao = np.std(resultados['test_precisao'])\n",
    "print(f\"\\nMédia da Precisão: {media_precisao:.4f}\")\n",
    "print(f\"Desvio Padrão da Precisão: {desvio_precisao:.4f}\")"
   ]
  },
  {
   "cell_type": "code",
   "execution_count": 26,
   "metadata": {},
   "outputs": [
    {
     "name": "stdout",
     "output_type": "stream",
     "text": [
      "\n",
      "Média do Recall: 0.8405\n",
      "Desvio Padrão do Recall: 0.0153\n"
     ]
    }
   ],
   "source": [
    "# iii. a média e desvio da recall dos modelos obtidos;\n",
    "\n",
    "media_recall = np.mean(resultados['test_recall'])\n",
    "desvio_recall = np.std(resultados['test_recall'])\n",
    "print(f\"\\nMédia do Recall: {media_recall:.4f}\")\n",
    "print(f\"Desvio Padrão do Recall: {desvio_recall:.4f}\")"
   ]
  },
  {
   "cell_type": "code",
   "execution_count": 27,
   "metadata": {},
   "outputs": [
    {
     "name": "stdout",
     "output_type": "stream",
     "text": [
      "\n",
      "Média do F1-Score: 0.8039\n",
      "Desvio Padrão do F1-Score: 0.0119\n"
     ]
    }
   ],
   "source": [
    "# iv. a média e desvio do f1-score dos modelos obtidos.\n",
    "\n",
    "media_f1 = np.mean(resultados['test_f1'])\n",
    "desvio_f1 = np.std(resultados['test_f1'])\n",
    "print(f\"\\nMédia do F1-Score: {media_f1:.4f}\")\n",
    "print(f\"Desvio Padrão do F1-Score: {desvio_f1:.4f}\")"
   ]
  },
  {
   "cell_type": "markdown",
   "metadata": {},
   "source": [
    "##### Treine um modelo de árvores de decisão usando um modelo de validação cruzada estratificada com k-folds (k=10) para realizar a classificação. Calcule para a base de teste:"
   ]
  },
  {
   "cell_type": "code",
   "execution_count": 28,
   "metadata": {},
   "outputs": [],
   "source": [
    "# Importações necessárias\n",
    "from sklearn.tree import DecisionTreeClassifier"
   ]
  },
  {
   "cell_type": "code",
   "execution_count": 29,
   "metadata": {},
   "outputs": [],
   "source": [
    "# 1. Definindo o modelo e a validação cruzada\n",
    "modelo = DecisionTreeClassifier(random_state=42)  # Árvore de Decisão\n",
    "kfold = StratifiedKFold(n_splits=10, shuffle=True, random_state=42)\n",
    "\n",
    "# 2. Definindo as métricas a serem calculadas\n",
    "metricas = {\n",
    "    'acuracia': 'accuracy',\n",
    "    'precisao': 'precision',\n",
    "    'recall': 'recall',\n",
    "    'f1': 'f1'\n",
    "}\n",
    "\n",
    "# 3. Aplicando a validação cruzada\n",
    "resultados = cross_validate(\n",
    "    modelo,\n",
    "    df_white.drop(columns=['opinião']),  # Features (X)\n",
    "    df_white['opinião'],                 # Target (y)\n",
    "    cv=kfold,\n",
    "    scoring=metricas\n",
    ")"
   ]
  },
  {
   "cell_type": "code",
   "execution_count": 30,
   "metadata": {},
   "outputs": [
    {
     "name": "stdout",
     "output_type": "stream",
     "text": [
      "Média da Acurácia: 0.7897\n",
      "Desvio Padrão da Acurácia: 0.0156\n"
     ]
    }
   ],
   "source": [
    "# i. a média e desvio da acurácia dos modelos obtidos;\n",
    "\n",
    "media_acuracia = np.mean(resultados['test_acuracia'])\n",
    "desvio_acuracia = np.std(resultados['test_acuracia'])\n",
    "print(f\"Média da Acurácia: {media_acuracia:.4f}\")\n",
    "print(f\"Desvio Padrão da Acurácia: {desvio_acuracia:.4f}\")"
   ]
  },
  {
   "cell_type": "code",
   "execution_count": 31,
   "metadata": {},
   "outputs": [
    {
     "name": "stdout",
     "output_type": "stream",
     "text": [
      "\n",
      "Média da Precisão: 0.8308\n",
      "Desvio Padrão da Precisão: 0.0135\n"
     ]
    }
   ],
   "source": [
    "# ii. a média e desvio da precisão dos modelos obtidos;\n",
    "\n",
    "media_precisao = np.mean(resultados['test_precisao'])\n",
    "desvio_precisao = np.std(resultados['test_precisao'])\n",
    "print(f\"\\nMédia da Precisão: {media_precisao:.4f}\")\n",
    "print(f\"Desvio Padrão da Precisão: {desvio_precisao:.4f}\")"
   ]
  },
  {
   "cell_type": "code",
   "execution_count": 32,
   "metadata": {},
   "outputs": [
    {
     "name": "stdout",
     "output_type": "stream",
     "text": [
      "\n",
      "Média do Recall: 0.8388\n",
      "Desvio Padrão do Recall: 0.0152\n"
     ]
    }
   ],
   "source": [
    "# iii. a média e desvio da recall dos modelos obtidos;\n",
    "\n",
    "media_recall = np.mean(resultados['test_recall'])\n",
    "desvio_recall = np.std(resultados['test_recall'])\n",
    "print(f\"\\nMédia do Recall: {media_recall:.4f}\")\n",
    "print(f\"Desvio Padrão do Recall: {desvio_recall:.4f}\")"
   ]
  },
  {
   "cell_type": "code",
   "execution_count": 33,
   "metadata": {},
   "outputs": [
    {
     "name": "stdout",
     "output_type": "stream",
     "text": [
      "\n",
      "Média do F1-Score: 0.8347\n",
      "Desvio Padrão do F1-Score: 0.0124\n"
     ]
    }
   ],
   "source": [
    "# iv. a média e desvio do f1-score dos modelos obtidos.\n",
    "\n",
    "media_f1 = np.mean(resultados['test_f1'])\n",
    "desvio_f1 = np.std(resultados['test_f1'])\n",
    "print(f\"\\nMédia do F1-Score: {media_f1:.4f}\")\n",
    "print(f\"Desvio Padrão do F1-Score: {desvio_f1:.4f}\")"
   ]
  },
  {
   "cell_type": "markdown",
   "metadata": {},
   "source": [
    "##### Treine um modelo de SVM usando um modelo de validação cruzada estratificada com k-folds (k=10) para realizar a classificação. Calcule para a base de teste:"
   ]
  },
  {
   "cell_type": "code",
   "execution_count": 34,
   "metadata": {},
   "outputs": [],
   "source": [
    "from sklearn.svm import SVC"
   ]
  },
  {
   "cell_type": "code",
   "execution_count": 35,
   "metadata": {},
   "outputs": [],
   "source": [
    "modelo = SVC(random_state=42)\n",
    "kfold = StratifiedKFold(n_splits=10, shuffle=True, random_state=42)\n",
    "metricas = {\n",
    "    'acuracia': 'accuracy',\n",
    "    'precisao': 'precision',\n",
    "    'recall': 'recall',\n",
    "    'f1': 'f1'\n",
    "}\n",
    "resultados = cross_validate(\n",
    "    modelo,\n",
    "    df_white.drop(columns=['opinião']),\n",
    "    df_white['opinião'],\n",
    "    cv=kfold,\n",
    "    scoring=metricas\n",
    ")"
   ]
  },
  {
   "cell_type": "code",
   "execution_count": 36,
   "metadata": {},
   "outputs": [
    {
     "name": "stdout",
     "output_type": "stream",
     "text": [
      "Média da Acurácia: 0.6338\n",
      "Desvio Padrão da Acurácia: 0.0021\n"
     ]
    }
   ],
   "source": [
    "# i. a média e desvio da acurácia dos modelos obtidos;\n",
    "\n",
    "media_acuracia = np.mean(resultados['test_acuracia'])\n",
    "desvio_acuracia = np.std(resultados['test_acuracia'])\n",
    "print(f\"Média da Acurácia: {media_acuracia:.4f}\")\n",
    "print(f\"Desvio Padrão da Acurácia: {desvio_acuracia:.4f}\")"
   ]
  },
  {
   "cell_type": "code",
   "execution_count": 37,
   "metadata": {},
   "outputs": [
    {
     "name": "stdout",
     "output_type": "stream",
     "text": [
      "Média da Precisão: 0.6340\n",
      "Desvio Padrão da Precisão: 0.0014\n"
     ]
    }
   ],
   "source": [
    "# ii. a média e desvio da precisão dos modelos obtidos;\n",
    "\n",
    "media_precisao = np.mean(resultados['test_precisao'])\n",
    "desvio_precisao = np.std(resultados['test_precisao'])\n",
    "print(f\"Média da Precisão: {media_precisao:.4f}\")\n",
    "print(f\"Desvio Padrão da Precisão: {desvio_precisao:.4f}\")"
   ]
  },
  {
   "cell_type": "code",
   "execution_count": 38,
   "metadata": {},
   "outputs": [
    {
     "name": "stdout",
     "output_type": "stream",
     "text": [
      "Média do Recall: 0.9976\n",
      "Desvio Padrão do Recall: 0.0065\n"
     ]
    }
   ],
   "source": [
    "# iii. a média e desvio da recall dos modelos obtidos;\n",
    "\n",
    "media_recall = np.mean(resultados['test_recall'])\n",
    "desvio_recall = np.std(resultados['test_recall'])\n",
    "print(f\"Média do Recall: {media_recall:.4f}\")\n",
    "print(f\"Desvio Padrão do Recall: {desvio_recall:.4f}\")"
   ]
  },
  {
   "cell_type": "code",
   "execution_count": 39,
   "metadata": {},
   "outputs": [
    {
     "name": "stdout",
     "output_type": "stream",
     "text": [
      "Média do F1-Score: 0.7752\n",
      "Desvio Padrão do F1-Score: 0.0019\n"
     ]
    }
   ],
   "source": [
    "# iv. a média e desvio do f1-score dos modelos obtidos.\n",
    "\n",
    "media_f1 = np.mean(resultados['test_f1'])\n",
    "desvio_f1 = np.std(resultados['test_f1'])\n",
    "print(f\"Média do F1-Score: {media_f1:.4f}\")\n",
    "print(f\"Desvio Padrão do F1-Score: {desvio_f1:.4f}\")"
   ]
  },
  {
   "cell_type": "markdown",
   "metadata": {},
   "source": [
    "#### 5. Em relação à questão anterior, qual o modelo deveria ser escolhido para uma eventual operação. Responda essa questão mostrando a comparação de todos os modelos, usando um gráfico mostrando a curva ROC média para cada um dos gráficos e justifique."
   ]
  },
  {
   "cell_type": "code",
   "execution_count": 40,
   "metadata": {},
   "outputs": [],
   "source": [
    "# Importações necessárias\n",
    "import matplotlib.pyplot as plt\n",
    "from sklearn.metrics import roc_curve, auc\n",
    "from sklearn.model_selection import StratifiedKFold, GridSearchCV\n",
    "from sklearn.linear_model import LogisticRegression\n",
    "from sklearn.tree import DecisionTreeClassifier\n",
    "from sklearn.svm import SVC\n",
    "import numpy as np\n",
    "from sklearn.model_selection import RandomizedSearchCV\n",
    "from scipy.stats import uniform, randint  # Para distribuições contínuas e discretas"
   ]
  },
  {
   "cell_type": "code",
   "execution_count": 41,
   "metadata": {},
   "outputs": [],
   "source": [
    "# Seed para reprodutibilidade\n",
    "SEED = 42\n",
    "np.random.seed(SEED)"
   ]
  },
  {
   "cell_type": "code",
   "execution_count": 42,
   "metadata": {},
   "outputs": [],
   "source": [
    "# 1. Definindo os modelos e seus hiperparâmetros para GridSearch\n",
    "modelos = {\n",
    "    'Regressão Logística': {\n",
    "        'modelo': LogisticRegression(max_iter=10000, random_state=SEED),\n",
    "        'parametros': {\n",
    "            'C': [0.01, 0.1, 1, 10, 100],  # Parâmetro de regularização\n",
    "            'solver': ['liblinear', 'lbfgs', 'sag']\n",
    "        }\n",
    "    },\n",
    "    'Árvore de Decisão': {\n",
    "        'modelo': DecisionTreeClassifier(random_state=SEED),\n",
    "        'parametros': {\n",
    "            'max_depth': [None, 5, 10, 20],  # Profundidade máxima da árvore\n",
    "            'min_samples_split': [2, 5, 10],  # Número mínimo de amostras para dividir um nó\n",
    "            'min_samples_leaf': [1, 2, 4]     # Número mínimo de amostras em uma folha\n",
    "        }\n",
    "    },\n",
    "    'SVM': {\n",
    "        'modelo': SVC(probability=True, random_state=SEED),  # probability=True para calcular probabilidades\n",
    "        'parametros': {\n",
    "            'C': [0.01, 0.1, 1, 10, 100],  # Parâmetro de regularização\n",
    "            'kernel': ['linear', 'rbf'],    # Tipo de kernel\n",
    "            'gamma': ['scale', 'auto']      # Coeficiente do kernel\n",
    "        }\n",
    "    }\n",
    "}"
   ]
  },
  {
   "cell_type": "code",
   "execution_count": 43,
   "metadata": {},
   "outputs": [],
   "source": [
    "# 2. Definindo a validação cruzada\n",
    "kfold = StratifiedKFold(n_splits=10, shuffle=True, random_state=SEED)"
   ]
  },
  {
   "cell_type": "code",
   "execution_count": 44,
   "metadata": {},
   "outputs": [],
   "source": [
    "# 3. Preparando para armazenar as curvas ROC\n",
    "tprs = {}  # Taxa de verdadeiros positivos (True Positive Rate)\n",
    "aucs = {}  # Área sob a curva ROC (AUC)\n",
    "mean_fpr = np.linspace(0, 1, 100)  # Eixo x da curva ROC (False Positive Rate)"
   ]
  },
  {
   "cell_type": "code",
   "execution_count": 45,
   "metadata": {},
   "outputs": [],
   "source": [
    "# Inicializando os dicionários\n",
    "for nome_modelo in modelos.keys():\n",
    "    tprs[nome_modelo] = []\n",
    "    aucs[nome_modelo] = []"
   ]
  },
  {
   "cell_type": "code",
   "execution_count": 46,
   "metadata": {},
   "outputs": [],
   "source": [
    "# 4. Otimizando hiperparâmetros e calculando as curvas ROC para cada modelo\n",
    "for nome_modelo, config in modelos.items():\n",
    "    modelo = config['modelo']\n",
    "    parametros = config['parametros']\n",
    "\n",
    "    # Usando RandomizedSearchCV para encontrar os melhores hiperparâmetros\n",
    "    random_search = RandomizedSearchCV(\n",
    "        modelo,\n",
    "        parametros,\n",
    "        n_iter=10,  # Número de combinações de hiperparâmetros a serem testadas\n",
    "        cv=kfold,\n",
    "        scoring='roc_auc',\n",
    "        n_jobs=-1,\n",
    "        random_state=42\n",
    "    )\n",
    "    random_search.fit(df_white.drop(columns=['opinião']), df_white['opinião'])\n",
    "\n",
    "    # Melhor modelo após RandomizedSearch\n",
    "    melhor_modelo = random_search.best_estimator_\n",
    "\n",
    "    # Calculando as curvas ROC com o melhor modelo\n",
    "    for train_idx, test_idx in kfold.split(df_white.drop(columns=['opinião']), df_white['opinião']):\n",
    "        X_train, X_test = df_white.drop(columns=['opinião']).iloc[train_idx], df_white.drop(columns=['opinião']).iloc[test_idx]\n",
    "        y_train, y_test = df_white['opinião'].iloc[train_idx], df_white['opinião'].iloc[test_idx]\n",
    "\n",
    "        # Treinando o melhor modelo\n",
    "        melhor_modelo.fit(X_train, y_train)\n",
    "\n",
    "        # Calculando as probabilidades para a classe positiva\n",
    "        if hasattr(melhor_modelo, \"predict_proba\"):\n",
    "            probas = melhor_modelo.predict_proba(X_test)[:, 1]\n",
    "        else:\n",
    "            probas = melhor_modelo.decision_function(X_test)\n",
    "            probas = (probas - probas.min()) / (probas.max() - probas.min())  # Normalizando para [0, 1]\n",
    "\n",
    "        # Calculando a curva ROC\n",
    "        fpr, tpr, _ = roc_curve(y_test, probas)\n",
    "        tprs[nome_modelo].append(np.interp(mean_fpr, fpr, tpr))  # Interpolando para o eixo x comum\n",
    "        tprs[nome_modelo][-1][0] = 0.0  # Garantindo que a curva começa em (0, 0)\n",
    "        roc_auc = auc(fpr, tpr)\n",
    "        aucs[nome_modelo].append(roc_auc)"
   ]
  },
  {
   "cell_type": "code",
   "execution_count": 49,
   "metadata": {},
   "outputs": [],
   "source": [
    "# 5. Calculando a AUC média para cada modelo\n",
    "auc_medias = {nome_modelo: np.mean(aucs[nome_modelo]) for nome_modelo in modelos.keys()}"
   ]
  },
  {
   "cell_type": "code",
   "execution_count": 50,
   "metadata": {},
   "outputs": [],
   "source": [
    "# 6. Identificando o melhor modelo\n",
    "melhor_modelo = max(auc_medias, key=auc_medias.get)\n",
    "melhor_auc = auc_medias[melhor_modelo]"
   ]
  },
  {
   "cell_type": "code",
   "execution_count": 81,
   "metadata": {},
   "outputs": [
    {
     "data": {
      "image/png": "[encoded data removed]",
      "text/plain": [
       "<Figure size 1500x600 with 1 Axes>"
      ]
     },
     "metadata": {},
     "output_type": "display_data"
    }
   ],
   "source": [
    "# 7. Plotando as curvas ROC médias\n",
    "plt.figure(figsize=(15, 6))\n",
    "for nome_modelo in modelos.keys():\n",
    "    mean_tpr = np.mean(tprs[nome_modelo], axis=0)\n",
    "    mean_tpr[-1] = 1.0  # Garantindo que a curva termina em (1, 1)\n",
    "    mean_auc = auc_medias[nome_modelo]\n",
    "    std_auc = np.std(aucs[nome_modelo])\n",
    "\n",
    "    plt.plot(mean_fpr, mean_tpr, label=f'{nome_modelo} (AUC = {mean_auc:.2f} ± {std_auc:.2f})')\n",
    "\n",
    "# Configurações do gráfico\n",
    "plt.plot([0, 1], [0, 1], linestyle='--', color='gray', label='Aleatório')\n",
    "plt.xlabel('Taxa de Falsos Positivos (FPR)')\n",
    "plt.ylabel('Taxa de Verdadeiros Positivos (TPR)')\n",
    "plt.title('Curvas ROC Médias (Validação Cruzada com 10 Folds)')\n",
    "plt.legend(loc='lower right')\n",
    "plt.grid(True)\n",
    "plt.show()"
   ]
  },
  {
   "cell_type": "code",
   "execution_count": 52,
   "metadata": {},
   "outputs": [
    {
     "name": "stdout",
     "output_type": "stream",
     "text": [
      "\n",
      "Melhor modelo: SVM com AUC média = 0.81\n"
     ]
    }
   ],
   "source": [
    "\n",
    "# 8. Exibindo o melhor modelo\n",
    "print(f\"\\nMelhor modelo: {melhor_modelo} com AUC média = {melhor_auc:.2f}\")"
   ]
  },
  {
   "cell_type": "markdown",
   "metadata": {},
   "source": [
    "#### 6. Com a escolha do melhor modelo, use os dados de vinho tinto, presentes na base original e faça a inferência (não é para treinar novamente!!!) para saber quantos vinhos são bons ou ruins. Utilize o mesmo critério utilizado com os vinhos brancos, para comparar o desempenho do modelo. Ele funciona da mesma forma para essa nova base? Justifique."
   ]
  },
  {
   "cell_type": "code",
   "execution_count": 53,
   "metadata": {},
   "outputs": [],
   "source": [
    "from sklearn.metrics import accuracy_score, precision_score, recall_score, f1_score"
   ]
  },
  {
   "cell_type": "code",
   "execution_count": 61,
   "metadata": {},
   "outputs": [
    {
     "name": "stdout",
     "output_type": "stream",
     "text": [
      "Valores únicos na coluna 'opinião': [0 1]\n",
      "Tipo de dados da coluna 'opinião': int32\n",
      "Valores faltantes na coluna 'opinião': 0\n"
     ]
    }
   ],
   "source": [
    "# Verificar e ajustar a coluna 'opinião'\n",
    "print(\"Valores únicos na coluna 'opinião':\", df_red['opinião'].unique())\n",
    "print(\"Tipo de dados da coluna 'opinião':\", df_red['opinião'].dtype)\n",
    "print(\"Valores faltantes na coluna 'opinião':\", df_red['opinião'].isnull().sum())\n"
   ]
  },
  {
   "cell_type": "code",
   "execution_count": 62,
   "metadata": {},
   "outputs": [],
   "source": [
    "# Converter para inteiro e tratar valores faltantes\n",
    "df_red['opinião'] = df_red['opinião'].astype(int)\n",
    "df_red = df_red.dropna(subset=['opinião'])  # Remover valores \n"
   ]
  },
  {
   "cell_type": "code",
   "execution_count": 63,
   "metadata": {},
   "outputs": [
    {
     "name": "stdout",
     "output_type": "stream",
     "text": [
      "Valores únicos após ajustes: [0 1]\n"
     ]
    }
   ],
   "source": [
    "# Verificar se a coluna é binária\n",
    "print(\"Valores únicos após ajustes:\", df_red['opinião'].unique())"
   ]
  },
  {
   "cell_type": "code",
   "execution_count": 67,
   "metadata": {},
   "outputs": [],
   "source": [
    "# 1. Acessar o melhor modelo treinado\n",
    "melhor_modelo = random_search.best_estimator_"
   ]
  },
  {
   "cell_type": "code",
   "execution_count": 69,
   "metadata": {},
   "outputs": [],
   "source": [
    "# 2. Preparar os dados de vinho tinto\n",
    "X_red = df_red.drop(columns=['opinião'])  # Features\n",
    "y_red = df_red['opinião']                # Target real"
   ]
  },
  {
   "cell_type": "code",
   "execution_count": 70,
   "metadata": {},
   "outputs": [],
   "source": [
    "# 3. Fazer a inferência (previsões)\n",
    "y_pred_red = melhor_modelo.predict(X_red)\n"
   ]
  },
  {
   "cell_type": "code",
   "execution_count": null,
   "metadata": {},
   "outputs": [],
   "source": [
    "# 4. Calcular métricas de avaliação\n",
    "acuracia = accuracy_score(y_red, y_pred_red)\n",
    "precisao = precision_score(y_red, y_pred_red)\n",
    "recall = recall_score(y_red, y_pred_red)\n",
    "f1 = f1_score(y_red, y_pred_red)"
   ]
  },
  {
   "cell_type": "code",
   "execution_count": null,
   "metadata": {},
   "outputs": [
    {
     "name": "stdout",
     "output_type": "stream",
     "text": [
      "Métricas do modelo SVM nos dados de vinho tinto:\n",
      "Acurácia: 0.9218\n",
      "Precisão: 0.9304\n",
      "Recall: 0.9228\n",
      "F1-Score: 0.9266\n"
     ]
    }
   ],
   "source": [
    "# 5. Exibir as métricas\n",
    "print(\"Métricas do modelo SVM nos dados de vinho tinto:\")\n",
    "print(f\"Acurácia: {acuracia:.4f}\")\n",
    "print(f\"Precisão: {precisao:.4f}\")\n",
    "print(f\"Recall: {recall:.4f}\")\n",
    "print(f\"F1-Score: {f1:.4f}\")"
   ]
  },
  {
   "cell_type": "code",
   "execution_count": 75,
   "metadata": {},
   "outputs": [
    {
     "name": "stdout",
     "output_type": "stream",
     "text": [
      "\n",
      "O modelo funciona bem para os vinhos tintos, com desempenho próximo ao observado nos vinhos brancos.\n"
     ]
    }
   ],
   "source": [
    "# 6. Justificar o desempenho\n",
    "if acuracia > 0.75:  # Defina um limite de desempenho aceitável\n",
    "    print(\"\\nO modelo funciona bem para os vinhos tintos, com desempenho próximo ao observado nos vinhos brancos.\")\n",
    "else:\n",
    "    print(\"\\nO modelo não funciona tão bem para os vinhos tintos. Isso pode ocorrer porque:\")\n",
    "    print(\"- As características dos vinhos tintos são diferentes das dos vinhos brancos.\")\n",
    "    print(\"- O modelo foi treinado apenas com dados de vinhos brancos e pode não generalizar bem para vinhos tintos.\")\n",
    "    print(\"- Pode ser necessário treinar um modelo separado para vinhos tintos ou usar técnicas de transfer learning.\")"
   ]
  },
  {
   "cell_type": "markdown",
   "metadata": {},
   "source": [
    "#### 7. Disponibilize os códigos usados para responder da questão 2-6 em uma conta github e indique o link para o repositório."
   ]
  },
  {
   "cell_type": "code",
   "execution_count": 1,
   "metadata": {},
   "outputs": [
    {
     "name": "stdout",
     "output_type": "stream",
     "text": [
      "link do projeto no kaggle: https://github.com/CBarrosoBRRJ/ML-CLASSIFICACAO_INFNET\n"
     ]
    }
   ],
   "source": [
    "print('link do projeto no kaggle: https://github.com/CBarrosoBRRJ/ML-CLASSIFICACAO_INFNET')"
   ]
  },
  {
   "cell_type": "code",
   "execution_count": 2,
   "metadata": {},
   "outputs": [
    {
     "name": "stdout",
     "output_type": "stream",
     "text": [
      "Fim do Projeto\n"
     ]
    }
   ],
   "source": [
    "print('Fim do Projeto')"
   ]
  }
 ],
 "metadata": {
  "kernelspec": {
   "display_name": "base",
   "language": "python",
   "name": "python3"
  },
  "language_info": {
   "codemirror_mode": {
    "name": "ipython",
    "version": 3
   },
   "file_extension": ".py",
   "mimetype": "text/x-python",
   "name": "python",
   "nbconvert_exporter": "python",
   "pygments_lexer": "ipython3",
   "version": "3.12.7"
  }
 },
 "nbformat": 4,
 "nbformat_minor": 2
}
